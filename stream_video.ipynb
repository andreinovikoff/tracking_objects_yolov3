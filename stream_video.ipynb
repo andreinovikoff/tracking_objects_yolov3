{
 "metadata": {
  "language_info": {
   "codemirror_mode": {
    "name": "ipython",
    "version": 3
   },
   "file_extension": ".py",
   "mimetype": "text/x-python",
   "name": "python",
   "nbconvert_exporter": "python",
   "pygments_lexer": "ipython3",
   "version": "3.8.5-final"
  },
  "orig_nbformat": 2,
  "kernelspec": {
   "name": "Python 3.8.5 64-bit",
   "display_name": "Python 3.8.5 64-bit",
   "metadata": {
    "interpreter": {
     "hash": "082e9a3bcad0a290d0001e938aa60b99250c6c2ef33a923c00b70f9826caf4b7"
    }
   }
  }
 },
 "nbformat": 4,
 "nbformat_minor": 2,
 "cells": [
  {
   "cell_type": "code",
   "execution_count": 12,
   "metadata": {},
   "outputs": [],
   "source": [
    "stream = 'http://68.188.109.50/cgi-bin/camera'"
   ]
  },
  {
   "cell_type": "code",
   "execution_count": 46,
   "metadata": {},
   "outputs": [],
   "source": [
    "import cv2\n",
    "import matplotlib.pyplot as plt \n",
    "from IPython import display\n",
    "from IPython.display import Image, Video\n",
    "import numpy as np\n",
    "import time"
   ]
  },
  {
   "cell_type": "code",
   "execution_count": 47,
   "metadata": {},
   "outputs": [],
   "source": [
    "net = cv2.dnn.readNet('./net/yolov3.cfg', './net/yolov3.weights')\n",
    "\n",
    "layer_names = net.getLayerNames()\n",
    "out_layers_indexes = net.getUnconnectedOutLayers()\n",
    "out_layers = [layer_names[index[0]-1] for index in out_layers_indexes]\n",
    "\n",
    "with open('coco.names.txt') as f:\n",
    "    classes = f.read().split('\\n')"
   ]
  },
  {
   "cell_type": "code",
   "execution_count": 48,
   "metadata": {},
   "outputs": [],
   "source": [
    "parking_area = [\n",
    "    [0, 730, 180, 1000],\n",
    "    [180, 740, 280, 1000],\n",
    "    [280, 750, 350, 1000],\n",
    "    [350, 770, 450, 1000],\n",
    "    [450, 820, 800, 1000],\n",
    "    [800, 840, 1250, 1000],\n",
    "    [1250, 830, 1580, 1000],\n",
    "]"
   ]
  },
  {
   "cell_type": "code",
   "execution_count": 49,
   "metadata": {},
   "outputs": [],
   "source": [
    "def draw_parking_area(img):\n",
    "    for area in parking_area:\n",
    "        x1, y1, x2, y2 = area\n",
    "        start = (x1, y1)\n",
    "        end = (x2, y2)\n",
    "        color = (255, 0, 0)\n",
    "        width = 2\n",
    "        img = cv2.rectangle(img, start, end, color, width)\n",
    "    return img"
   ]
  },
  {
   "cell_type": "code",
   "execution_count": 50,
   "metadata": {},
   "outputs": [],
   "source": [
    "def check_car_in_parking_area(box, class_index):\n",
    "    name = classes[class_index]\n",
    "    if name not in ['car', 'truck', 'motorbike', 'bus']:\n",
    "        return False\n",
    "\n",
    "    x, y, obj_width, obj_height = box\n",
    "    car_x_center = x + obj_width // 2\n",
    "    car_y_center = y + obj_height // 2\n",
    "    \n",
    "    for area in parking_area:\n",
    "        x1, y1, x2, y2 = area\n",
    "        if x1 <= car_x_center <= x2 and y1 <= car_y_center <= y2:\n",
    "            return True\n",
    "\n",
    "    return False"
   ]
  },
  {
   "cell_type": "code",
   "execution_count": 51,
   "metadata": {},
   "outputs": [],
   "source": [
    "def draw_object(img, index, score, box, selected):\n",
    "    if check_car_in_parking_area(box, index):\n",
    "        color = (0, 255, 0)\n",
    "    else:\n",
    "        color = (0, 0, 255)\n",
    "\n",
    "    x,y,w,h = box\n",
    "    # positioning the rectangle\n",
    "    start = (x, y) # x, y first point of rectangle\n",
    "    end = (x + w, y + h) # x, y second point\n",
    "    width = 2\n",
    "    img = cv2.rectangle(img, start, end, color, width)\n",
    "    # positioning the text\n",
    "    start = (x, y-10)\n",
    "    font_size = 1\n",
    "    font = cv2.FONT_HERSHEY_SIMPLEX\n",
    "    width = 2\n",
    "    text = classes[index]\n",
    "\n",
    "    img = cv2.putText(img, text, start, font, font_size, color, width, cv2.LINE_AA)\n",
    "\n",
    "    return img"
   ]
  },
  {
   "cell_type": "code",
   "execution_count": 52,
   "metadata": {},
   "outputs": [],
   "source": [
    "count_history = []  # [[10, time.time()], [12, time.time()], [8, time.time()]]\n",
    "duration = 30  # seconds\n",
    "\n",
    "def draw_cars_count(img, count):\n",
    "    now = time.time()\n",
    "    count_history.append([count, now])\n",
    "    \n",
    "    counts = [pair[0] for pair in count_history if pair[1] >= now - 30]\n",
    "    mid = sum(counts) / len(counts)\n",
    "    mid_max_counts = [count for count in counts if count >= mid]\n",
    "    mid_max = sum(mid_max_counts) / len(mid_max_counts)\n",
    "    mid_max = int(np.ceil(mid_max))\n",
    "\n",
    "    color = (0, 255, 0)\n",
    "    start = (50, 150)\n",
    "    font_size = 3\n",
    "    font = cv2.FONT_HERSHEY_SIMPLEX \n",
    "    width = 3\n",
    "    text = str(mid_max) + ' cars'\n",
    "    img = cv2.putText(img, text, start, font, font_size, color, width, cv2.LINE_AA)\n",
    "\n",
    "    start = (50, 250)\n",
    "    text = str(45 - mid_max) + ' free parking places'\n",
    "    img = cv2.putText(img, text, start, font, font_size, color, width, cv2.LINE_AA)\n",
    "    return img"
   ]
  },
  {
   "cell_type": "code",
   "execution_count": 53,
   "metadata": {},
   "outputs": [],
   "source": [
    "def apply_yolo(img):\n",
    "    height, width, depth = img.shape\n",
    "    blob = cv2.dnn.blobFromImage(img, 1/255, (608, 608), (0,0,0), swapRB=True, crop=False)\n",
    "    net.setInput(blob)\n",
    "    outs = net.forward(out_layers)\n",
    "\n",
    "    class_scores = []\n",
    "    class_indexes = []\n",
    "    boxes = []\n",
    "\n",
    "    for out in outs:\n",
    "        for obj in out:\n",
    "            scores = obj[5:]\n",
    "            class_index = np.argmax(scores)\n",
    "            class_score = scores[class_index]\n",
    "            if class_score > 0:\n",
    "                center_x = int(obj[0] * width)\n",
    "                center_y = int(obj[1] * height)\n",
    "                obj_width = int(obj[2] * width)\n",
    "                obj_height = int(obj[3] * height)\n",
    "\n",
    "                x = center_x - obj_width // 2\n",
    "                y = center_y - obj_height // 2\n",
    "\n",
    "                box = [x, y, obj_width, obj_height]\n",
    "                boxes.append(box)\n",
    "                class_indexes.append(class_index)\n",
    "                class_scores.append(float(class_score))\n",
    "\n",
    "    chosen_boxes = cv2.dnn.NMSBoxes(boxes, class_scores, 0, 0.4)\n",
    "\n",
    "    img = draw_parking_area(img)\n",
    "\n",
    "    selected_count = 0\n",
    "    for box_index in chosen_boxes:\n",
    "        box_index = box_index[0]\n",
    "        box = boxes[box_index]\n",
    "        class_index = class_indexes[box_index]\n",
    "        class_score = class_scores[box_index]\n",
    "        selected = check_car_in_parking_area(box, class_index)\n",
    "        img = draw_object(img, class_index, class_score, box, selected)\n",
    "\n",
    "        if selected:\n",
    "            selected_count+=selected\n",
    "        img = draw_cars_count(img)\n",
    "\n",
    "    return img"
   ]
  },
  {
   "cell_type": "code",
   "execution_count": 54,
   "metadata": {},
   "outputs": [
    {
     "output_type": "error",
     "ename": "TypeError",
     "evalue": "draw_cars_count() missing 1 required positional argument: 'count'",
     "traceback": [
      "\u001b[0;31m---------------------------------------------------------------------------\u001b[0m",
      "\u001b[0;31mTypeError\u001b[0m                                 Traceback (most recent call last)",
      "\u001b[0;32m<ipython-input-54-b7f54c0c1aba>\u001b[0m in \u001b[0;36m<module>\u001b[0;34m\u001b[0m\n\u001b[1;32m      7\u001b[0m             \u001b[0;32mbreak\u001b[0m\u001b[0;34m\u001b[0m\u001b[0;34m\u001b[0m\u001b[0m\n\u001b[1;32m      8\u001b[0m \u001b[0;34m\u001b[0m\u001b[0m\n\u001b[0;32m----> 9\u001b[0;31m         \u001b[0mframe\u001b[0m \u001b[0;34m=\u001b[0m \u001b[0mapply_yolo\u001b[0m\u001b[0;34m(\u001b[0m\u001b[0mframe\u001b[0m\u001b[0;34m)\u001b[0m\u001b[0;34m\u001b[0m\u001b[0;34m\u001b[0m\u001b[0m\n\u001b[0m\u001b[1;32m     10\u001b[0m \u001b[0;34m\u001b[0m\u001b[0m\n\u001b[1;32m     11\u001b[0m         \u001b[0mframe\u001b[0m \u001b[0;34m=\u001b[0m \u001b[0mcv2\u001b[0m\u001b[0;34m.\u001b[0m\u001b[0mcvtColor\u001b[0m\u001b[0;34m(\u001b[0m\u001b[0mframe\u001b[0m\u001b[0;34m,\u001b[0m \u001b[0mcv2\u001b[0m\u001b[0;34m.\u001b[0m\u001b[0mCOLOR_BGR2RGB\u001b[0m\u001b[0;34m)\u001b[0m\u001b[0;34m\u001b[0m\u001b[0;34m\u001b[0m\u001b[0m\n",
      "\u001b[0;32m<ipython-input-53-234a63d4eaee>\u001b[0m in \u001b[0;36mapply_yolo\u001b[0;34m(img)\u001b[0m\n\u001b[1;32m     43\u001b[0m         \u001b[0;32mif\u001b[0m \u001b[0mselected\u001b[0m\u001b[0;34m:\u001b[0m\u001b[0;34m\u001b[0m\u001b[0;34m\u001b[0m\u001b[0m\n\u001b[1;32m     44\u001b[0m             \u001b[0mselected_count\u001b[0m\u001b[0;34m+=\u001b[0m\u001b[0mselected\u001b[0m\u001b[0;34m\u001b[0m\u001b[0;34m\u001b[0m\u001b[0m\n\u001b[0;32m---> 45\u001b[0;31m         \u001b[0mimg\u001b[0m \u001b[0;34m=\u001b[0m \u001b[0mdraw_cars_count\u001b[0m\u001b[0;34m(\u001b[0m\u001b[0mimg\u001b[0m\u001b[0;34m)\u001b[0m\u001b[0;34m\u001b[0m\u001b[0;34m\u001b[0m\u001b[0m\n\u001b[0m\u001b[1;32m     46\u001b[0m \u001b[0;34m\u001b[0m\u001b[0m\n\u001b[1;32m     47\u001b[0m     \u001b[0;32mreturn\u001b[0m \u001b[0mimg\u001b[0m\u001b[0;34m\u001b[0m\u001b[0;34m\u001b[0m\u001b[0m\n",
      "\u001b[0;31mTypeError\u001b[0m: draw_cars_count() missing 1 required positional argument: 'count'"
     ]
    }
   ],
   "source": [
    "try:\n",
    "    cap = cv2.VideoCapture(stream)\n",
    "\n",
    "    while cap.isOpened():\n",
    "        ret, frame = cap.read()\n",
    "        if not ret:\n",
    "            break\n",
    "\n",
    "        frame = apply_yolo(frame)\n",
    "\n",
    "        frame = cv2.cvtColor(frame, cv2.COLOR_BGR2RGB)\n",
    "        frame = cv2.resize(frame, (2560//2, 1440//2))\n",
    "\n",
    "        plt.figure(figsize=(20,15))\n",
    "        plt.imshow(frame)\n",
    "        display.clear_output(wait=True)\n",
    "        display.display(plt.gcf())\n",
    "\n",
    "    cap.release()\n",
    "except KeyboardInterrupt:\n",
    "    display.clear_output()\n",
    "    print('Stopped')"
   ]
  },
  {
   "cell_type": "code",
   "execution_count": null,
   "metadata": {},
   "outputs": [],
   "source": []
  }
 ]
}