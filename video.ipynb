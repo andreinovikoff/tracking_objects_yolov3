{
 "metadata": {
  "language_info": {
   "codemirror_mode": {
    "name": "ipython",
    "version": 3
   },
   "file_extension": ".py",
   "mimetype": "text/x-python",
   "name": "python",
   "nbconvert_exporter": "python",
   "pygments_lexer": "ipython3",
   "version": "3.8.5-final"
  },
  "orig_nbformat": 2,
  "kernelspec": {
   "name": "Python 3.8.5 64-bit",
   "display_name": "Python 3.8.5 64-bit",
   "metadata": {
    "interpreter": {
     "hash": "082e9a3bcad0a290d0001e938aa60b99250c6c2ef33a923c00b70f9826caf4b7"
    }
   }
  }
 },
 "nbformat": 4,
 "nbformat_minor": 2,
 "cells": [
  {
   "cell_type": "code",
   "execution_count": 10,
   "metadata": {},
   "outputs": [],
   "source": [
    "import cv2\n",
    "import matplotlib.pyplot as plt \n",
    "from IPython import display\n",
    "import numpy as np"
   ]
  },
  {
   "cell_type": "code",
   "execution_count": 11,
   "metadata": {},
   "outputs": [],
   "source": [
    "net = cv2.dnn.readNet('./net/yolov3.cfg', './net/yolov3.weights')\n",
    "\n",
    "layer_names = net.getLayerNames()\n",
    "out_layers_indexes = net.getUnconnectedOutLayers()\n",
    "out_layers = [layer_names[index[0]-1] for index in out_layers_indexes]\n",
    "\n",
    "with open('coco.names.txt') as f:\n",
    "    classes = f.read().split('\\n')"
   ]
  },
  {
   "cell_type": "code",
   "execution_count": 12,
   "metadata": {},
   "outputs": [],
   "source": [
    "def draw_object(img, index, score, box):\n",
    "    x,y,w,h = box\n",
    "    # positioning the rectangle\n",
    "    start = (x, y) # x, y first point of rectangle\n",
    "    end = (x + w, y + h) # x, y second point\n",
    "    color = (0, 255, 0)\n",
    "    width = 2\n",
    "    img = cv2.rectangle(img, start, end, color, width)\n",
    "    # positioning the text\n",
    "    start = (x, y-10)\n",
    "    font_size = 5\n",
    "    font = cv2.FONT_HERSHEY_SIMPLEX\n",
    "    color = (0, 255, 0)\n",
    "    width = 2\n",
    "    text = classes[index]\n",
    "\n",
    "    img = cv2.putText(img, text, start, font, font_size, color, width, cv2.LINE_AA)\n",
    "\n",
    "    return img"
   ]
  },
  {
   "cell_type": "code",
   "execution_count": null,
   "metadata": {},
   "outputs": [],
   "source": [
    "def apply_yolo(img):\n",
    "    height, width, depth = img.shape\n",
    "    blob = cv2.dnn.blobFromImage(img, 1/255, (608, 608), (0,0,0), swapRB=True, crop=False)\n",
    "    net.setInput(blob)\n",
    "    outs = net.forward(out_layers)\n",
    "\n",
    "    class_scores = []\n",
    "    class_indexes = []\n",
    "    boxes = []\n",
    "\n",
    "    for out in outs:\n",
    "        for obj in out:\n",
    "            scores = obj[5:]\n",
    "            class_index = np.argmax(scores)\n",
    "            class_score = scores[class_index]\n",
    "            if class_score > 0:\n",
    "                center_x = int(obj[0] * width)\n",
    "                center_y = int(obj[1] * height)\n",
    "                obj_width = int(obj[2] * width)\n",
    "                obj_height = int(obj[3] * height)\n",
    "\n",
    "                x = center_x - obj_width // 2\n",
    "                y = center_y - obj_height // 2\n",
    "\n",
    "                box = [x, y, obj_width, obj_height]\n",
    "                boxes.append(box)\n",
    "                class_indexes.append(class_index)\n",
    "                class_scores.append(float(class_score))\n",
    "\n",
    "    chosen_boxes = cv2.dnn.NMSBoxes(boxes, class_scores, 0, 0.4)\n",
    "\n",
    "    for box_index in chosen_boxes:\n",
    "        box_index = box_index[0]\n",
    "        img = draw_object(img, class_indexes[box_index], class_scores[box_index], boxes[box_index])\n",
    "\n",
    "    return img"
   ]
  },
  {
   "cell_type": "code",
   "execution_count": 20,
   "metadata": {},
   "outputs": [],
   "source": [
    "size = (3840, 2160) # must be the same as input video size\n",
    "codec = cv2.VideoWriter_fourcc(*'mp4v')\n",
    "out = cv2.VideoWriter('output.mp4', codec, 20, size)\n",
    "\n",
    "cap = cv2.VideoCapture('./src/video.mp4')\n",
    "\n",
    "while cap.isOpened():\n",
    "    ret, frame = cap.read()\n",
    "    if not ret:\n",
    "        break\n",
    "\n",
    "    frame = apply_yolo(frame)\n",
    "    out.write(frame)\n",
    "    frame = cv2.cvtColor(frame, cv2.COLOR_BGR2RGB)\n",
    "    frame = cv2.resize(frame, (2500//2, 1440//2))\n",
    "\n",
    "    plt.figure(figsize=(20,15))\n",
    "    plt.imshow(frame)\n",
    "    display.clear_output(wait=True)\n",
    "    display.display(plt.gcf())\n",
    "\n",
    "cap.release()\n",
    "out.release()"
   ]
  },
  {
   "cell_type": "code",
   "execution_count": null,
   "metadata": {},
   "outputs": [],
   "source": []
  }
 ]
}